{
 "cells": [
  {
   "cell_type": "code",
   "execution_count": 4,
   "metadata": {},
   "outputs": [
    {
     "name": "stdout",
     "output_type": "stream",
     "text": [
      "Collecting joblib==1.3.2\n",
      "  Using cached joblib-1.3.2-py3-none-any.whl.metadata (5.4 kB)\n",
      "Collecting pandas==1.3.5\n",
      "  Downloading pandas-1.3.5-cp37-cp37m-win_amd64.whl.metadata (12 kB)\n",
      "Collecting streamlit==1.23.1\n",
      "  Downloading streamlit-1.23.1-py2.py3-none-any.whl.metadata (7.4 kB)\n",
      "Requirement already satisfied: numpy==1.21.6 in c:\\users\\hp\\anaconda3\\lib\\site-packages (1.21.6)\n",
      "Requirement already satisfied: python-dateutil>=2.7.3 in c:\\users\\hp\\anaconda3\\lib\\site-packages (from pandas==1.3.5) (2.8.1)\n",
      "Requirement already satisfied: pytz>=2017.3 in c:\\users\\hp\\anaconda3\\lib\\site-packages (from pandas==1.3.5) (2019.3)\n",
      "Requirement already satisfied: altair<6,>=4.0 in c:\\users\\hp\\anaconda3\\lib\\site-packages (from streamlit==1.23.1) (5.0.1)\n",
      "Requirement already satisfied: blinker<2,>=1.0.0 in c:\\users\\hp\\anaconda3\\lib\\site-packages (from streamlit==1.23.1) (1.6.2)\n",
      "Requirement already satisfied: cachetools<6,>=4.0 in c:\\users\\hp\\anaconda3\\lib\\site-packages (from streamlit==1.23.1) (5.3.1)\n",
      "Requirement already satisfied: click<9,>=7.0 in c:\\users\\hp\\anaconda3\\lib\\site-packages (from streamlit==1.23.1) (7.1.2)\n",
      "Requirement already satisfied: importlib-metadata<7,>=1.4 in c:\\users\\hp\\anaconda3\\lib\\site-packages (from streamlit==1.23.1) (6.6.0)\n",
      "Requirement already satisfied: packaging<24,>=14.1 in c:\\users\\hp\\anaconda3\\lib\\site-packages (from streamlit==1.23.1) (20.1)\n",
      "Requirement already satisfied: pillow<10,>=6.2.0 in c:\\users\\hp\\anaconda3\\lib\\site-packages (from streamlit==1.23.1) (7.0.0)\n",
      "Requirement already satisfied: protobuf<5,>=3.20 in c:\\users\\hp\\anaconda3\\lib\\site-packages (from streamlit==1.23.1) (3.20.0)\n",
      "Requirement already satisfied: pyarrow>=4.0 in c:\\users\\hp\\anaconda3\\lib\\site-packages (from streamlit==1.23.1) (12.0.1)\n",
      "Requirement already satisfied: pympler<2,>=0.9 in c:\\users\\hp\\anaconda3\\lib\\site-packages (from streamlit==1.23.1) (1.0.1)\n",
      "Requirement already satisfied: requests<3,>=2.4 in c:\\users\\hp\\anaconda3\\lib\\site-packages (from streamlit==1.23.1) (2.22.0)\n",
      "Requirement already satisfied: rich<14,>=10.11.0 in c:\\users\\hp\\anaconda3\\lib\\site-packages (from streamlit==1.23.1) (13.4.2)\n",
      "Requirement already satisfied: tenacity<9,>=8.0.0 in c:\\users\\hp\\anaconda3\\lib\\site-packages (from streamlit==1.23.1) (8.2.2)\n",
      "Requirement already satisfied: toml<2 in c:\\users\\hp\\anaconda3\\lib\\site-packages (from streamlit==1.23.1) (0.10.2)\n",
      "Requirement already satisfied: typing-extensions<5,>=4.0.1 in c:\\users\\hp\\anaconda3\\lib\\site-packages (from streamlit==1.23.1) (4.6.3)\n",
      "Requirement already satisfied: tzlocal<5,>=1.1 in c:\\users\\hp\\anaconda3\\lib\\site-packages (from streamlit==1.23.1) (4.3.1)\n",
      "Requirement already satisfied: validators<1,>=0.2 in c:\\users\\hp\\anaconda3\\lib\\site-packages (from streamlit==1.23.1) (0.20.0)\n",
      "Requirement already satisfied: gitpython!=3.1.19,<4,>=3 in c:\\users\\hp\\anaconda3\\lib\\site-packages (from streamlit==1.23.1) (3.1.37)\n",
      "Requirement already satisfied: pydeck<1,>=0.1.dev5 in c:\\users\\hp\\anaconda3\\lib\\site-packages (from streamlit==1.23.1) (0.8.1b0)\n",
      "Requirement already satisfied: tornado<7,>=6.0.3 in c:\\users\\hp\\anaconda3\\lib\\site-packages (from streamlit==1.23.1) (6.0.3)\n",
      "Requirement already satisfied: watchdog in c:\\users\\hp\\anaconda3\\lib\\site-packages (from streamlit==1.23.1) (0.10.2)\n",
      "Requirement already satisfied: jinja2 in c:\\users\\hp\\anaconda3\\lib\\site-packages (from altair<6,>=4.0->streamlit==1.23.1) (2.11.1)\n",
      "Requirement already satisfied: jsonschema>=3.0 in c:\\users\\hp\\anaconda3\\lib\\site-packages (from altair<6,>=4.0->streamlit==1.23.1) (3.2.0)\n",
      "Requirement already satisfied: toolz in c:\\users\\hp\\anaconda3\\lib\\site-packages (from altair<6,>=4.0->streamlit==1.23.1) (0.10.0)\n",
      "Requirement already satisfied: gitdb<5,>=4.0.1 in c:\\users\\hp\\anaconda3\\lib\\site-packages (from gitpython!=3.1.19,<4,>=3->streamlit==1.23.1) (4.0.10)\n",
      "Requirement already satisfied: zipp>=0.5 in c:\\users\\hp\\anaconda3\\lib\\site-packages (from importlib-metadata<7,>=1.4->streamlit==1.23.1) (3.15.0)\n",
      "Requirement already satisfied: pyparsing>=2.0.2 in c:\\users\\hp\\anaconda3\\lib\\site-packages (from packaging<24,>=14.1->streamlit==1.23.1) (2.4.6)\n",
      "Requirement already satisfied: six in c:\\users\\hp\\anaconda3\\lib\\site-packages (from packaging<24,>=14.1->streamlit==1.23.1) (1.14.0)\n",
      "Requirement already satisfied: chardet<3.1.0,>=3.0.2 in c:\\users\\hp\\anaconda3\\lib\\site-packages (from requests<3,>=2.4->streamlit==1.23.1) (3.0.4)\n",
      "Requirement already satisfied: idna<2.9,>=2.5 in c:\\users\\hp\\anaconda3\\lib\\site-packages (from requests<3,>=2.4->streamlit==1.23.1) (2.8)\n",
      "Requirement already satisfied: urllib3!=1.25.0,!=1.25.1,<1.26,>=1.21.1 in c:\\users\\hp\\anaconda3\\lib\\site-packages (from requests<3,>=2.4->streamlit==1.23.1) (1.25.8)\n",
      "Requirement already satisfied: certifi>=2017.4.17 in c:\\users\\hp\\anaconda3\\lib\\site-packages (from requests<3,>=2.4->streamlit==1.23.1) (2019.11.28)\n",
      "Requirement already satisfied: markdown-it-py>=2.2.0 in c:\\users\\hp\\anaconda3\\lib\\site-packages (from rich<14,>=10.11.0->streamlit==1.23.1) (2.2.0)\n",
      "Requirement already satisfied: pygments<3.0.0,>=2.13.0 in c:\\users\\hp\\anaconda3\\lib\\site-packages (from rich<14,>=10.11.0->streamlit==1.23.1) (2.16.1)\n",
      "Requirement already satisfied: pytz-deprecation-shim in c:\\users\\hp\\anaconda3\\lib\\site-packages (from tzlocal<5,>=1.1->streamlit==1.23.1) (0.1.0.post0)\n",
      "Requirement already satisfied: tzdata in c:\\users\\hp\\anaconda3\\lib\\site-packages (from tzlocal<5,>=1.1->streamlit==1.23.1) (2023.3)\n",
      "Requirement already satisfied: backports.zoneinfo in c:\\users\\hp\\anaconda3\\lib\\site-packages (from tzlocal<5,>=1.1->streamlit==1.23.1) (0.2.1)\n",
      "Requirement already satisfied: decorator>=3.4.0 in c:\\users\\hp\\anaconda3\\lib\\site-packages (from validators<1,>=0.2->streamlit==1.23.1) (4.4.1)\n",
      "Requirement already satisfied: pathtools>=0.1.1 in c:\\users\\hp\\anaconda3\\lib\\site-packages (from watchdog->streamlit==1.23.1) (0.1.2)\n",
      "Requirement already satisfied: smmap<6,>=3.0.1 in c:\\users\\hp\\anaconda3\\lib\\site-packages (from gitdb<5,>=4.0.1->gitpython!=3.1.19,<4,>=3->streamlit==1.23.1) (5.0.1)\n",
      "Requirement already satisfied: MarkupSafe>=0.23 in c:\\users\\hp\\anaconda3\\lib\\site-packages (from jinja2->altair<6,>=4.0->streamlit==1.23.1) (2.0.1)\n",
      "Requirement already satisfied: attrs>=17.4.0 in c:\\users\\hp\\anaconda3\\lib\\site-packages (from jsonschema>=3.0->altair<6,>=4.0->streamlit==1.23.1) (19.3.0)\n",
      "Requirement already satisfied: pyrsistent>=0.14.0 in c:\\users\\hp\\anaconda3\\lib\\site-packages (from jsonschema>=3.0->altair<6,>=4.0->streamlit==1.23.1) (0.15.7)\n",
      "Requirement already satisfied: setuptools in c:\\users\\hp\\anaconda3\\lib\\site-packages (from jsonschema>=3.0->altair<6,>=4.0->streamlit==1.23.1) (45.2.0.post20200210)\n",
      "Requirement already satisfied: mdurl~=0.1 in c:\\users\\hp\\anaconda3\\lib\\site-packages (from markdown-it-py>=2.2.0->rich<14,>=10.11.0->streamlit==1.23.1) (0.1.2)\n",
      "Using cached joblib-1.3.2-py3-none-any.whl (302 kB)\n",
      "Downloading pandas-1.3.5-cp37-cp37m-win_amd64.whl (10.0 MB)\n",
      "   ---------------------------------------- 10.0/10.0 MB 2.3 MB/s eta 0:00:00\n",
      "Downloading streamlit-1.23.1-py2.py3-none-any.whl (8.9 MB)\n",
      "   ---------------------------------------- 8.9/8.9 MB 1.6 MB/s eta 0:00:00\n",
      "Installing collected packages: joblib, pandas, streamlit\n",
      "Note: you may need to restart the kernel to use updated packages.\n"
     ]
    },
    {
     "name": "stderr",
     "output_type": "stream",
     "text": [
      "WARNING: Ignoring invalid distribution -rotobuf (c:\\users\\hp\\anaconda3\\lib\\site-packages)\n",
      "WARNING: Ignoring invalid distribution -treamlit (c:\\users\\hp\\anaconda3\\lib\\site-packages)\n",
      "WARNING: Ignoring invalid distribution -rotobuf (c:\\users\\hp\\anaconda3\\lib\\site-packages)\n",
      "WARNING: Ignoring invalid distribution -treamlit (c:\\users\\hp\\anaconda3\\lib\\site-packages)\n",
      "DEPRECATION: pyodbc 4.0.0-unsupported has a non-standard version number. pip 24.1 will enforce this behaviour change. A possible replacement is to upgrade to a newer version of pyodbc or contact the author to suggest that they release a version with a conforming version number. Discussion can be found at https://github.com/pypa/pip/issues/12063\n",
      "  WARNING: Failed to write executable - trying to use .deleteme logic\n",
      "ERROR: Could not install packages due to an OSError: [WinError 32] The process cannot access the file because it is being used by another process: 'C:\\\\Users\\\\HP\\\\anaconda3\\\\Scripts\\\\streamlit.exe' -> 'C:\\\\Users\\\\HP\\\\anaconda3\\\\Scripts\\\\streamlit.exe.deleteme'\n",
      "Consider using the `--user` option or check the permissions.\n",
      "\n"
     ]
    }
   ],
   "source": [
    "pip install joblib==1.3.2 pandas==1.3.5 streamlit==1.23.1 numpy==1.21.6"
   ]
  },
  {
   "cell_type": "code",
   "execution_count": 5,
   "metadata": {},
   "outputs": [
    {
     "name": "stdout",
     "output_type": "stream",
     "text": [
      "Overwriting Kortizone_Europe.py\n"
     ]
    }
   ],
   "source": [
    "\n",
    "\n",
    "%%writefile Kortizone_Europe.py\n",
    "import streamlit as st\n",
    "import pandas as pd\n",
    "import numpy as np\n",
    "import joblib\n",
    "\n",
    "        \n",
    "\n",
    "def Le3ba():\n",
    "    st.markdown(\"<p style='text-align: center; font-weight: bold;font-size: 40px;font-family: 'Calibri', Arial, sans-serif;'>ابدأ لعب    </p>\", unsafe_allow_html=True)\n",
    "    st.title(' ')\n",
    "    st.markdown(\"<div style='display: flex; justify-content: center</div>\", unsafe_allow_html=True)\n",
    "    st.image('Website 2_page-0001.jpg')\n",
    "    df=pd.read_excel('KortiEuro Database Final.xlsx',sheet_name='Sheet2')\n",
    "    st.markdown(\"<p style='text-align: center; font-weight: bold;font-size: 25px;'>دخل رقم الكارت</p>\", unsafe_allow_html=True)\n",
    "    input_value = st.text_input(' ', value='0', key='Card')\n",
    "    if input_value != '':\n",
    "        try:\n",
    "            x = int(input_value)\n",
    "        except ValueError:\n",
    "            st.error(\"دخلت رقم غلط \")\n",
    "            x = 0\n",
    "    else:\n",
    "        x = 0\n",
    "\n",
    "    if x == 0:\n",
    "        st.write('   ')\n",
    "    elif x not in df['Card'].unique():\n",
    "        st.error(\"دخلت رقم غلط \")\n",
    "        \n",
    "    elif x in range(21,40) or x in range(93,123) or x in range(133,143):\n",
    "        index=df[(df['Card']==x)].index[0]\n",
    "        egaba=str(df[(df['Card']==x)].loc[index,'Answer'])\n",
    "        egabalist=egaba.split('\\n')\n",
    "        formatted_text = \"\"\n",
    "        for line in egabalist:\n",
    "            formatted_text += f\"<div style='text-align: right;font-size:20px;'>{line}</div>\"            \n",
    "        st.markdown(formatted_text, unsafe_allow_html=True)\n",
    "        \n",
    "        \n",
    "        \n",
    "    else:\n",
    "        st.markdown(\"<p style='text-align: center; font-weight: bold;font-size: 25px;'>دخل رقم السؤال</p>\", unsafe_allow_html=True)\n",
    "        input_value1 = st.text_input(' ', value='0', key='Question')\n",
    "        if input_value1 != '':\n",
    "            try:\n",
    "                y = int(input_value1)\n",
    "            except ValueError:\n",
    "                st.error(\"دخلت رقم غلط \")\n",
    "                y = 0\n",
    "        else:\n",
    "            y = 0\n",
    "\n",
    "        if y == 0:\n",
    "            st.write('  ')\n",
    "        elif y==' ':\n",
    "            st.write('   ')\n",
    "\n",
    "        elif y not in df[df['Card']==x]['Question'].unique():\n",
    "            st.error(\"دخلت رقم غلط \")\n",
    "        else:\n",
    "            index=df[(df['Question']==y) & (df['Card']==x)].index[0]\n",
    "            egaba=str(df[(df['Question']==y) & (df['Card']==x)].loc[index,'Answer'])\n",
    "            egabalist=egaba.split('\\n')\n",
    "            formatted_text = \"\"\n",
    "            for line in egabalist:\n",
    "                formatted_text += f\"<div style='text-align: right;font-size:20px;'>{line}</div>\"            \n",
    "            st.markdown(formatted_text, unsafe_allow_html=True)\n",
    "\n",
    "            \n",
    "def tare2et_el_le3b():\n",
    "    \n",
    "    st.markdown(\"<p style='text-align: center; font-weight: bold;font-size: 40px;font-family: 'Calibri', Arial, sans-serif;'>طريقة اللعب</p>\", unsafe_allow_html=True)\n",
    "    st.title(' ')\n",
    "    st.image('How to Play (Website)_page-0001.jpg')\n",
    "\n",
    "    \n",
    "\n",
    "\n",
    "st.markdown(\"<p style='text-align: right; font-weight: bold;font-size: 25px;'>  اختار الصفحة</p>\", unsafe_allow_html=True)    \n",
    "selected_page = st.selectbox(\" \", ['الرئيسية','طريقة اللعب','الاجابات'])\n",
    "\n",
    "if selected_page=='الرئيسية':\n",
    "    \n",
    "    st.markdown(\"<div style='display: flex; justify-content: center</div>\", unsafe_allow_html=True)\n",
    "    st.image('bd34b9f1-e4cb-4d46-b228-ca698e87d057.jpg')\n",
    "    \n",
    "    \n",
    "elif selected_page=='طريقة اللعب':\n",
    "    tare2et_el_le3b()\n",
    "    \n",
    "elif selected_page=='الاجابات':\n",
    "    Le3ba()"
   ]
  },
  {
   "cell_type": "code",
   "execution_count": null,
   "metadata": {},
   "outputs": [],
   "source": [
    "! streamlit run Kortizone_Europe.py"
   ]
  },
  {
   "cell_type": "code",
   "execution_count": 8,
   "metadata": {},
   "outputs": [
    {
     "name": "stdout",
     "output_type": "stream",
     "text": [
      "Requirement already satisfied: numpy in c:\\users\\hp\\anaconda3\\lib\\site-packages (1.21.6)\n",
      "Note: you may need to restart the kernel to use updated packages.\n"
     ]
    },
    {
     "name": "stderr",
     "output_type": "stream",
     "text": [
      "WARNING: Ignoring invalid distribution -rotobuf (c:\\users\\hp\\anaconda3\\lib\\site-packages)\n",
      "WARNING: Ignoring invalid distribution -rotobuf (c:\\users\\hp\\anaconda3\\lib\\site-packages)\n",
      "DEPRECATION: pyodbc 4.0.0-unsupported has a non-standard version number. pip 24.1 will enforce this behaviour change. A possible replacement is to upgrade to a newer version of pyodbc or contact the author to suggest that they release a version with a conforming version number. Discussion can be found at https://github.com/pypa/pip/issues/12063\n"
     ]
    }
   ],
   "source": []
  },
  {
   "cell_type": "code",
   "execution_count": null,
   "metadata": {},
   "outputs": [],
   "source": []
  }
 ],
 "metadata": {
  "kernelspec": {
   "display_name": "Python 3",
   "language": "python",
   "name": "python3"
  },
  "language_info": {
   "codemirror_mode": {
    "name": "ipython",
    "version": 3
   },
   "file_extension": ".py",
   "mimetype": "text/x-python",
   "name": "python",
   "nbconvert_exporter": "python",
   "pygments_lexer": "ipython3",
   "version": "3.7.6"
  }
 },
 "nbformat": 4,
 "nbformat_minor": 4
}
