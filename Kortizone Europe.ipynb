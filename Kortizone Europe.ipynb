{
 "cells": [
  {
   "cell_type": "code",
   "execution_count": null,
   "metadata": {},
   "outputs": [],
   "source": []
  },
  {
   "cell_type": "code",
   "execution_count": 9,
   "metadata": {},
   "outputs": [
    {
     "name": "stdout",
     "output_type": "stream",
     "text": [
      "Overwriting Kortizone_Europe.py\n"
     ]
    }
   ],
   "source": [
    "\n",
    "\n",
    "%%writefile Kortizone_Europe.py\n",
    "import streamlit as st\n",
    "import pandas as pd\n",
    "import numpy as np\n",
    "import joblib\n",
    "\n",
    "        \n",
    "\n",
    "def Le3ba():\n",
    "    st.markdown(\"<p style='text-align: center; font-weight: bold;font-size: 40px;font-family: 'Calibri', Arial, sans-serif;'>ابدأ لعب    </p>\", unsafe_allow_html=True)\n",
    "    st.title(' ')\n",
    "    st.markdown(\"<div style='display: flex; justify-content: center</div>\", unsafe_allow_html=True)\n",
    "    st.image('Website 2_page-0001.jpg')\n",
    "    df=pd.read_excel('KortiEuro Database Final.xlsx',sheet_name='Sheet2')\n",
    "    st.markdown(\"<p style='text-align: center; font-weight: bold;font-size: 25px;'>دخل رقم الكارت</p>\", unsafe_allow_html=True)\n",
    "    input_value = st.text_input(' ', value='0', key='Card')\n",
    "    if input_value != '':\n",
    "        try:\n",
    "            x = int(input_value)\n",
    "        except ValueError:\n",
    "            st.error(\"دخلت رقم غلط \")\n",
    "            x = 0\n",
    "    else:\n",
    "        x = 0\n",
    "\n",
    "    if x == 0:\n",
    "        st.write('   ')\n",
    "    elif x not in df['Card'].unique():\n",
    "        st.error(\"دخلت رقم غلط \")\n",
    "        \n",
    "    elif x in range(21,40) or x in range(93,123) or x in range(133,143):\n",
    "        index=df[(df['Card']==x)].index[0]\n",
    "        egaba=str(df[(df['Card']==x)].loc[index,'Answer'])\n",
    "        egabalist=egaba.split('\\n')\n",
    "        formatted_text = \"\"\n",
    "        for line in egabalist:\n",
    "            formatted_text += f\"<div style='text-align: right;font-size:20px;'>{line}</div>\"            \n",
    "        st.markdown(formatted_text, unsafe_allow_html=True)\n",
    "        \n",
    "        \n",
    "        \n",
    "    else:\n",
    "        st.markdown(\"<p style='text-align: center; font-weight: bold;font-size: 25px;'>دخل رقم السؤال</p>\", unsafe_allow_html=True)\n",
    "        input_value1 = st.text_input(' ', value='0', key='Question')\n",
    "        if input_value1 != '':\n",
    "            try:\n",
    "                y = int(input_value1)\n",
    "            except ValueError:\n",
    "                st.error(\"دخلت رقم غلط \")\n",
    "                y = 0\n",
    "        else:\n",
    "            y = 0\n",
    "\n",
    "        if y == 0:\n",
    "            st.write('  ')\n",
    "        elif y==' ':\n",
    "            st.write('   ')\n",
    "\n",
    "        elif y not in df[df['Card']==x]['Question'].unique():\n",
    "            st.error(\"دخلت رقم غلط \")\n",
    "        else:\n",
    "            index=df[(df['Question']==y) & (df['Card']==x)].index[0]\n",
    "            egaba=str(df[(df['Question']==y) & (df['Card']==x)].loc[index,'Answer'])\n",
    "            egabalist=egaba.split('\\n')\n",
    "            formatted_text = \"\"\n",
    "            for line in egabalist:\n",
    "                formatted_text += f\"<div style='text-align: right;font-size:20px;'>{line}</div>\"            \n",
    "            st.markdown(formatted_text, unsafe_allow_html=True)\n",
    "\n",
    "            \n",
    "def tare2et_el_le3b():\n",
    "    \n",
    "    st.markdown(\"<p style='text-align: center; font-weight: bold;font-size: 40px;font-family: 'Calibri', Arial, sans-serif;'>طريقة اللعب</p>\", unsafe_allow_html=True)\n",
    "    st.title(' ')\n",
    "    st.image('How to Play (Website)_page-0001.jpg')\n",
    "\n",
    "    \n",
    "\n",
    "\n",
    "st.markdown(\"<p style='text-align: right; font-weight: bold;font-size: 25px;'>  اختار الصفحة</p>\", unsafe_allow_html=True)    \n",
    "selected_page = st.selectbox(\" \", ['الرئيسية','طريقة اللعب','الاجابات'])\n",
    "\n",
    "if selected_page=='الرئيسية':\n",
    "    \n",
    "    st.markdown(\"<div style='display: flex; justify-content: center</div>\", unsafe_allow_html=True)\n",
    "    st.image('bd34b9f1-e4cb-4d46-b228-ca698e87d057.jpg')\n",
    "    \n",
    "    \n",
    "elif selected_page=='طريقة اللعب':\n",
    "    tare2et_el_le3b()\n",
    "    \n",
    "elif selected_page=='الاجابات':\n",
    "    Le3ba()"
   ]
  },
  {
   "cell_type": "code",
   "execution_count": null,
   "metadata": {},
   "outputs": [],
   "source": [
    "! streamlit run Kortizone_Europe.py"
   ]
  },
  {
   "cell_type": "code",
   "execution_count": 8,
   "metadata": {},
   "outputs": [
    {
     "name": "stdout",
     "output_type": "stream",
     "text": [
      "Requirement already satisfied: numpy in c:\\users\\hp\\anaconda3\\lib\\site-packages (1.21.6)\n",
      "Note: you may need to restart the kernel to use updated packages.\n"
     ]
    },
    {
     "name": "stderr",
     "output_type": "stream",
     "text": [
      "WARNING: Ignoring invalid distribution -rotobuf (c:\\users\\hp\\anaconda3\\lib\\site-packages)\n",
      "WARNING: Ignoring invalid distribution -rotobuf (c:\\users\\hp\\anaconda3\\lib\\site-packages)\n",
      "DEPRECATION: pyodbc 4.0.0-unsupported has a non-standard version number. pip 24.1 will enforce this behaviour change. A possible replacement is to upgrade to a newer version of pyodbc or contact the author to suggest that they release a version with a conforming version number. Discussion can be found at https://github.com/pypa/pip/issues/12063\n"
     ]
    }
   ],
   "source": []
  },
  {
   "cell_type": "code",
   "execution_count": null,
   "metadata": {},
   "outputs": [],
   "source": []
  }
 ],
 "metadata": {
  "kernelspec": {
   "display_name": "Python 3",
   "language": "python",
   "name": "python3"
  },
  "language_info": {
   "codemirror_mode": {
    "name": "ipython",
    "version": 3
   },
   "file_extension": ".py",
   "mimetype": "text/x-python",
   "name": "python",
   "nbconvert_exporter": "python",
   "pygments_lexer": "ipython3",
   "version": "3.7.6"
  }
 },
 "nbformat": 4,
 "nbformat_minor": 4
}
