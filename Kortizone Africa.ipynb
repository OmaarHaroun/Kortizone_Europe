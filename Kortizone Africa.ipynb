{
 "cells": [
  {
   "cell_type": "code",
   "execution_count": 3,
   "metadata": {},
   "outputs": [
    {
     "name": "stdout",
     "output_type": "stream",
     "text": [
      "Overwriting Kortizone_Europe.py\n"
     ]
    }
   ],
   "source": [
    "%%writefile Kortizone_Europe.py\n",
    "import streamlit as st\n",
    "import pandas as pd\n",
    "import numpy as np\n",
    "\n",
    "\n",
    "        \n",
    "\n",
    "def Le3ba():\n",
    "    st.markdown(\"<p style='text-align: center; font-weight: bold;font-size: 40px;font-family: 'Calibri', Arial, sans-serif;'>ابدأ لعب    </p>\", unsafe_allow_html=True)\n",
    "    st.title(' ')\n",
    "    st.markdown(\"<div style='display: flex; justify-content: center</div>\", unsafe_allow_html=True)\n",
    "    st.image('Website 2_page-0001.jpg')\n",
    "    df=pd.read_excel('KortiEuro Database Final.xlsx',sheet_name='Sheet2')\n",
    "    st.markdown(\"<p style='text-align: center; font-weight: bold;font-size: 25px;'>دخل رقم الكارت</p>\", unsafe_allow_html=True)\n",
    "    input_value = st.text_input(' ', value='0', key='Card')\n",
    "    if input_value != '':\n",
    "        try:\n",
    "            x = int(input_value)\n",
    "        except ValueError:\n",
    "            st.error(\"دخلت رقم غلط \")\n",
    "            x = 0\n",
    "    else:\n",
    "        x = 0\n",
    "\n",
    "    if x == 0:\n",
    "        st.write('   ')\n",
    "    elif x not in df['Card'].unique():\n",
    "        st.error(\"دخلت رقم غلط \")\n",
    "        \n",
    "    elif x in range(21,40) or x in range(93,123) or x in range(133,143):\n",
    "        index=df[(df['Card']==x)].index[0]\n",
    "        egaba=str(df[(df['Card']==x)].loc[index,'Answer'])\n",
    "        egabalist=egaba.split('\\n')\n",
    "        formatted_text = \"\"\n",
    "        for line in egabalist:\n",
    "            formatted_text += f\"<div style='text-align: right;font-size:20px;'>{line}</div>\"            \n",
    "        st.markdown(formatted_text, unsafe_allow_html=True)\n",
    "        \n",
    "        \n",
    "        \n",
    "    else:\n",
    "        st.markdown(\"<p style='text-align: center; font-weight: bold;font-size: 25px;'>دخل رقم السؤال</p>\", unsafe_allow_html=True)\n",
    "        input_value1 = st.text_input(' ', value='0', key='Question')\n",
    "        if input_value1 != '':\n",
    "            try:\n",
    "                y = int(input_value1)\n",
    "            except ValueError:\n",
    "                st.error(\"دخلت رقم غلط \")\n",
    "                y = 0\n",
    "        else:\n",
    "            y = 0\n",
    "\n",
    "        if y == 0:\n",
    "            st.write('  ')\n",
    "        elif y==' ':\n",
    "            st.write('   ')\n",
    "\n",
    "        elif y not in df[df['Card']==x]['Question'].unique():\n",
    "            st.error(\"دخلت رقم غلط \")\n",
    "        else:\n",
    "            index=df[(df['Question']==y) & (df['Card']==x)].index[0]\n",
    "            egaba=str(df[(df['Question']==y) & (df['Card']==x)].loc[index,'Answer'])\n",
    "            egabalist=egaba.split('\\n')\n",
    "            formatted_text = \"\"\n",
    "            for line in egabalist:\n",
    "                formatted_text += f\"<div style='text-align: right;font-size:20px;'>{line}</div>\"            \n",
    "            st.markdown(formatted_text, unsafe_allow_html=True)\n",
    "\n",
    "            \n",
    "def tare2et_el_le3b():\n",
    "    \n",
    "    st.markdown(\"<p style='text-align: center; font-weight: bold;font-size: 40px;font-family: 'Calibri', Arial, sans-serif;'>طريقة اللعب</p>\", unsafe_allow_html=True)\n",
    "    st.title(' ')\n",
    "    st.image('How to Play (Website)_page-0001.jpg')\n",
    "\n",
    "    \n",
    "\n",
    "\n",
    "st.markdown(\"<p style='text-align: right; font-weight: bold;font-size: 25px;'>  اختار الصفحة</p>\", unsafe_allow_html=True)    \n",
    "selected_page = st.selectbox(\" \", ['الرئيسية','طريقة اللعب','الاجابات'])\n",
    "\n",
    "if selected_page=='الرئيسية':\n",
    "    \n",
    "    st.markdown(\"<div style='display: flex; justify-content: center</div>\", unsafe_allow_html=True)\n",
    "    st.image('bd34b9f1-e4cb-4d46-b228-ca698e87d057.jpg')\n",
    "    \n",
    "    \n",
    "elif selected_page=='طريقة اللعب':\n",
    "    tare2et_el_le3b()\n",
    "    \n",
    "elif selected_page=='الاجابات':\n",
    "    Le3ba()"
   ]
  },
  {
   "cell_type": "code",
   "execution_count": null,
   "metadata": {},
   "outputs": [],
   "source": [
    "!streamlit run Kortizone_Europe.py"
   ]
  },
  {
   "cell_type": "code",
   "execution_count": 2,
   "metadata": {},
   "outputs": [
    {
     "name": "stdout",
     "output_type": "stream",
     "text": [
      "Collecting numpy==1.21.0\n",
      "  Downloading numpy-1.21.0-cp37-cp37m-win_amd64.whl.metadata (2.0 kB)\n",
      "Downloading numpy-1.21.0-cp37-cp37m-win_amd64.whl (13.9 MB)\n",
      "   ---------------------------------------- 13.9/13.9 MB 2.7 MB/s eta 0:00:00\n",
      "Installing collected packages: numpy\n",
      "  Attempting uninstall: numpy\n",
      "    Found existing installation: numpy 1.21.5\n",
      "    Uninstalling numpy-1.21.5:\n",
      "      Successfully uninstalled numpy-1.21.5\n",
      "Successfully installed numpy-1.21.0\n",
      "Note: you may need to restart the kernel to use updated packages.\n"
     ]
    },
    {
     "name": "stderr",
     "output_type": "stream",
     "text": [
      "WARNING: Ignoring invalid distribution - (c:\\users\\hp\\anaconda3\\lib\\site-packages)\n",
      "WARNING: Ignoring invalid distribution -rotobuf (c:\\users\\hp\\anaconda3\\lib\\site-packages)\n",
      "WARNING: Ignoring invalid distribution -treamlit (c:\\users\\hp\\anaconda3\\lib\\site-packages)\n",
      "WARNING: Ignoring invalid distribution - (c:\\users\\hp\\anaconda3\\lib\\site-packages)\n",
      "WARNING: Ignoring invalid distribution -rotobuf (c:\\users\\hp\\anaconda3\\lib\\site-packages)\n",
      "WARNING: Ignoring invalid distribution -treamlit (c:\\users\\hp\\anaconda3\\lib\\site-packages)\n",
      "DEPRECATION: pyodbc 4.0.0-unsupported has a non-standard version number. pip 24.1 will enforce this behaviour change. A possible replacement is to upgrade to a newer version of pyodbc or contact the author to suggest that they release a version with a conforming version number. Discussion can be found at https://github.com/pypa/pip/issues/12063\n",
      "  WARNING: Failed to remove contents in a temporary directory 'c:\\users\\hp\\anaconda3\\lib\\site-packages\\~.mpy'.\n",
      "  You can safely remove it manually.\n",
      "ERROR: pip's dependency resolver does not currently take into account all the packages that are installed. This behaviour is the source of the following dependency conflicts.\n",
      "pytest-astropy 0.8.0 requires pytest-cov>=2.0, which is not installed.\n",
      "pytest-astropy 0.8.0 requires pytest-filter-subpackage>=0.1, which is not installed.\n",
      "tensorflow-intel 2.11.0 requires protobuf<3.20,>=3.9.2, but you have protobuf 3.20.0 which is incompatible.\n"
     ]
    }
   ],
   "source": [
    "pip install numpy==1.21.0"
   ]
  },
  {
   "cell_type": "code",
   "execution_count": null,
   "metadata": {},
   "outputs": [],
   "source": []
  }
 ],
 "metadata": {
  "kernelspec": {
   "display_name": "Python 3",
   "language": "python",
   "name": "python3"
  },
  "language_info": {
   "codemirror_mode": {
    "name": "ipython",
    "version": 3
   },
   "file_extension": ".py",
   "mimetype": "text/x-python",
   "name": "python",
   "nbconvert_exporter": "python",
   "pygments_lexer": "ipython3",
   "version": "3.7.6"
  }
 },
 "nbformat": 4,
 "nbformat_minor": 4
}
